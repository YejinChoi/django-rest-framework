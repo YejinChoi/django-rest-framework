{
 "cells": [
  {
   "cell_type": "code",
   "execution_count": 1,
   "metadata": {},
   "outputs": [],
   "source": [
    "# 장고에서는 뷰를 통해 HTTP요청을 처리함\n",
    "# 장고의 기본 함수기반뷰/클래스기반 뷰를 활용해도 API를 충분히 만들 수 O\n",
    "# But, rest_framework에서는 APIView/ViewSet을 활용하면 더 효율적으로 작성가능"
   ]
  },
  {
   "cell_type": "code",
   "execution_count": 3,
   "metadata": {},
   "outputs": [
    {
     "ename": "NameError",
     "evalue": "name 'PostSerializer' is not defined",
     "output_type": "error",
     "traceback": [
      "\u001b[0;31m---------------------------------------------------------------------------\u001b[0m",
      "\u001b[0;31mNameError\u001b[0m                                 Traceback (most recent call last)",
      "\u001b[0;32m<ipython-input-3-eec19e574f2d>\u001b[0m in \u001b[0;36m<module>\u001b[0;34m()\u001b[0m\n\u001b[1;32m      8\u001b[0m \u001b[0;34m\u001b[0m\u001b[0m\n\u001b[1;32m      9\u001b[0m \u001b[0;31m#views\u001b[0m\u001b[0;34m\u001b[0m\u001b[0;34m\u001b[0m\u001b[0m\n\u001b[0;32m---> 10\u001b[0;31m \u001b[0mserializer\u001b[0m \u001b[0;34m=\u001b[0m \u001b[0mPostSerializer\u001b[0m\u001b[0;34m(\u001b[0m\u001b[0mdata\u001b[0m\u001b[0;34m=\u001b[0m\u001b[0mrequest\u001b[0m\u001b[0;34m.\u001b[0m\u001b[0mPOST\u001b[0m\u001b[0;34m)\u001b[0m\u001b[0;34m\u001b[0m\u001b[0m\n\u001b[0m\u001b[1;32m     11\u001b[0m \u001b[0;32mif\u001b[0m \u001b[0mserializer\u001b[0m\u001b[0;34m.\u001b[0m\u001b[0mis_valid\u001b[0m\u001b[0;34m(\u001b[0m\u001b[0;34m)\u001b[0m\u001b[0;34m:\u001b[0m\u001b[0;34m\u001b[0m\u001b[0m\n\u001b[1;32m     12\u001b[0m     \u001b[0mserializer\u001b[0m\u001b[0;34m.\u001b[0m\u001b[0msave\u001b[0m\u001b[0;34m(\u001b[0m\u001b[0;34m)\u001b[0m\u001b[0;34m\u001b[0m\u001b[0m\n",
      "\u001b[0;31mNameError\u001b[0m: name 'PostSerializer' is not defined"
     ]
    }
   ],
   "source": [
    "#Serializer를 통한 뷰 처리 - 데이터 유효성 검사 및 데이터베이스로의 저장을 지원\n",
    "\n",
    "class PostSeirializer(serializers.ModelSerializer):\n",
    "    class Meta:\n",
    "        model = Post\n",
    "        fields = ['title', 'content']\n",
    "        \n",
    "#views\n",
    "serializer = PostSerializer(data=request.POST)\n",
    "if serializer.is_valid():\n",
    "    serializer.save()\n",
    "    return JsonResponse(serializer.data, status=201)\n",
    "return JsonResponse(serializer.errors, status=400)\n"
   ]
  },
  {
   "cell_type": "code",
   "execution_count": 4,
   "metadata": {},
   "outputs": [],
   "source": [
    "#APIView클래스와 api_view장식자\n",
    "\n",
    "#직렬화클래스 : renderer_classes\n",
    "#비직렬화클래스 : parsers_classes\n",
    "#인증클래스 : authentication_class\n",
    "#사용량 제한 클래스 : authentication_classes\n",
    "#권한 클래스 : permission_classes\n"
   ]
  },
  {
   "cell_type": "code",
   "execution_count": 1,
   "metadata": {},
   "outputs": [
    {
     "ename": "SyntaxError",
     "evalue": "invalid syntax (<ipython-input-1-d83fa14bf722>, line 2)",
     "output_type": "error",
     "traceback": [
      "\u001b[0;36m  File \u001b[0;32m\"<ipython-input-1-d83fa14bf722>\"\u001b[0;36m, line \u001b[0;32m2\u001b[0m\n\u001b[0;31m    1. 하나의 Class Based View - 한 URL에 대해서만 처리할 수 있음\u001b[0m\n\u001b[0m         ^\u001b[0m\n\u001b[0;31mSyntaxError\u001b[0m\u001b[0;31m:\u001b[0m invalid syntax\n"
     ]
    }
   ],
   "source": [
    "#APIView \n",
    "1. 하나의 Class Based View - 한 URL에 대해서만 처리할 수 있음\n",
    "    /posts/에 대한 CBV일 경우\n",
    "        get - 포스팅 목ㄹ록 요청\n",
    "        post - 새 포스팅 등록 요청\n",
    "    \n",
    "    /posts/10/에 대한 CBV일 경우\n",
    "        get - 10번 포스팅 내용 요청\n",
    "        put - 10번 포스팅 수정 요청\n",
    "        delete - 10번 포스팅 삭제 요청 \n",
    "2. 요청 method에 맞게 멤버함수를 정의하면, 해당 method 요청이 들어올 때 호출됨\n",
    "    def get(self,request)\n",
    "    def post(self,request)\n",
    "    def put(self, request)\n",
    "    def delete(self, request)\n",
    "    \n",
    "3. 각 method가 호출될 때 다음 처리가 이루어짐\n",
    "    직렬화/비직렬화\n",
    "    인증처리 : 인증체크\n",
    "    사용량 제한 체크 : 호출 허용량 범위인지 체크\n",
    "    권한 클래스 지정 : 비인증유저/인증유저에 대해 API 호출허용 지정\n",
    "    request.version에 API버전 문자열 탐지 후 저장"
   ]
  },
  {
   "cell_type": "code",
   "execution_count": 2,
   "metadata": {},
   "outputs": [
    {
     "ename": "ModuleNotFoundError",
     "evalue": "No module named '__main__.models'; '__main__' is not a package",
     "output_type": "error",
     "traceback": [
      "\u001b[0;31m---------------------------------------------------------------------------\u001b[0m",
      "\u001b[0;31mModuleNotFoundError\u001b[0m                       Traceback (most recent call last)",
      "\u001b[0;32m<ipython-input-2-6e335bd4c852>\u001b[0m in \u001b[0;36m<module>\u001b[0;34m()\u001b[0m\n\u001b[1;32m      2\u001b[0m \u001b[0;32mfrom\u001b[0m \u001b[0mrest_framework\u001b[0m\u001b[0;34m.\u001b[0m\u001b[0mresponse\u001b[0m \u001b[0;32mimport\u001b[0m \u001b[0mResponse\u001b[0m\u001b[0;34m\u001b[0m\u001b[0m\n\u001b[1;32m      3\u001b[0m \u001b[0;32mfrom\u001b[0m \u001b[0mrest_framework\u001b[0m\u001b[0;34m.\u001b[0m\u001b[0mviews\u001b[0m \u001b[0;32mimport\u001b[0m \u001b[0mAPIView\u001b[0m\u001b[0;34m\u001b[0m\u001b[0m\n\u001b[0;32m----> 4\u001b[0;31m \u001b[0;32mfrom\u001b[0m \u001b[0;34m.\u001b[0m\u001b[0mmodels\u001b[0m \u001b[0;32mimport\u001b[0m \u001b[0mPost\u001b[0m\u001b[0;34m\u001b[0m\u001b[0m\n\u001b[0m\u001b[1;32m      5\u001b[0m \u001b[0;32mfrom\u001b[0m \u001b[0;34m.\u001b[0m\u001b[0mserializers\u001b[0m \u001b[0;32mimport\u001b[0m \u001b[0mPostSerializer\u001b[0m\u001b[0;34m\u001b[0m\u001b[0m\n\u001b[1;32m      6\u001b[0m \u001b[0;34m\u001b[0m\u001b[0m\n",
      "\u001b[0;31mModuleNotFoundError\u001b[0m: No module named '__main__.models'; '__main__' is not a package"
     ]
    }
   ],
   "source": [
    "#APIVIew클래스를 활용하여 글 목록 응답/ 새 글 등록을 처리해주는 CBV 만들기\n",
    "from rest_framework.response import Response\n",
    "from rest_framework.views import APIView\n",
    "from .models import Post\n",
    "from .serializers import PostSerializer\n",
    "\n",
    "class PostListAPIView(APIView):\n",
    "    def get(self, request):\n",
    "        serializer = PostSerializer(Post.objects.all(), many=True)\n",
    "        return Response(serializer.data)\n",
    "    \n",
    "    def post(self, request):\n",
    "        serializer = PostSerializer(data=request.data)\n",
    "        if serializer.is_valid():\n",
    "            serializer.save()\n",
    "            return Response(serializer.data, status=201)\n",
    "        return Response(serializer.errors, status=400)"
   ]
  },
  {
   "cell_type": "code",
   "execution_count": null,
   "metadata": {},
   "outputs": [],
   "source": []
  }
 ],
 "metadata": {
  "kernelspec": {
   "display_name": "Django Shell-Plus",
   "language": "python",
   "name": "django_extensions"
  },
  "language_info": {
   "codemirror_mode": {
    "name": "ipython",
    "version": 3
   },
   "file_extension": ".py",
   "mimetype": "text/x-python",
   "name": "python",
   "nbconvert_exporter": "python",
   "pygments_lexer": "ipython3",
   "version": "3.6.3"
  }
 },
 "nbformat": 4,
 "nbformat_minor": 2
}
